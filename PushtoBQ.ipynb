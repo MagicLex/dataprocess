{
 "cells": [
  {
   "cell_type": "code",
   "execution_count": 3,
   "metadata": {},
   "outputs": [],
   "source": [
    "from http import client\n",
    "from google.cloud import bigquery\n",
    "from google.cloud.bigquery import SchemaField\n",
    "import pandas as pd\n",
    "import os\n",
    "os.environ['GOOGLE_APPLICATION_CREDENTIALS'] = \"./gtm-ops-9e9a928ef0ac.json\"\n",
    "client = bigquery.Client() "
   ]
  },
  {
   "cell_type": "code",
   "execution_count": 5,
   "metadata": {},
   "outputs": [
    {
     "name": "stdout",
     "output_type": "stream",
     "text": [
      "['first_name', 'last_name', 'Job_Title', 'Job_Function', 'Email_Address', 'Email_Domain', 'LinkedIn_Contact_Profile_URL', 'Country', 'State', 'City', 'Company_Name', 'Website', 'Revenue_Range', 'Primary_Industry', 'LinkedIn_Company_Profile_URL']\n"
     ]
    }
   ],
   "source": [
    "# Path to  merged file\n",
    "file_path = 'Data_Downloads/archive/march24/merged_files.csv'\n",
    "df = pd.read_csv(file_path)\n",
    "df_info = df.columns.tolist()\n",
    "\n",
    "print(df_info)"
   ]
  },
  {
   "cell_type": "code",
   "execution_count": 7,
   "metadata": {},
   "outputs": [
    {
     "data": {
      "text/plain": [
       "LoadJob<project=gtm-ops, location=europe-north1, id=3529a905-6379-4e69-857e-fbde8dfebb8b>"
      ]
     },
     "execution_count": 7,
     "metadata": {},
     "output_type": "execute_result"
    }
   ],
   "source": [
    "# Define the main table where you want to load the data\n",
    "table_id_main = \"gtm-ops.profile_lists.main_table\"\n",
    "\n",
    "# Load the CSV data directly to the main table\n",
    "job_config = bigquery.LoadJobConfig(\n",
    "    source_format=bigquery.SourceFormat.CSV,\n",
    "    skip_leading_rows=1,  # Assuming the first row is header\n",
    "    autodetect=False,  # Automatically detect schema (use with caution)\n",
    "    write_disposition=\"WRITE_APPEND\",  # Append to existing table\n",
    ")\n",
    "with open(file_path, \"rb\") as source_file:\n",
    "    job = client.load_table_from_file(source_file, table_id_main, job_config=job_config)\n",
    "job.result()  # Wait for the job to complete\n",
    "    "
   ]
  },
  {
   "cell_type": "markdown",
   "metadata": {},
   "source": [
    "# Utilities"
   ]
  },
  {
   "cell_type": "markdown",
   "metadata": {},
   "source": [
    "### Remove empty email rows"
   ]
  },
  {
   "cell_type": "code",
   "execution_count": 10,
   "metadata": {},
   "outputs": [
    {
     "data": {
      "text/plain": [
       "<google.cloud.bigquery.table._EmptyRowIterator at 0x141070550>"
      ]
     },
     "execution_count": 10,
     "metadata": {},
     "output_type": "execute_result"
    }
   ],
   "source": [
    "# Construct the query to remove rows without an email\n",
    "delete_query = f\"\"\"\n",
    "DELETE FROM `{table_id_main}`\n",
    "WHERE Email_Address IS NULL OR TRIM(Email_Address) = ''\n",
    "\"\"\"\n",
    "\n",
    "# Execute the query\n",
    "client.query(delete_query).result()\n"
   ]
  },
  {
   "cell_type": "markdown",
   "metadata": {},
   "source": [
    "### Merge two tables avoiding duplicates"
   ]
  },
  {
   "cell_type": "code",
   "execution_count": null,
   "metadata": {},
   "outputs": [],
   "source": [
    "# Define the source and destination table IDs\n",
    "source_table_id = \"gtm-ops.profile_lists.consolidated_feb_2024\"\n",
    "destination_table_id = \"gtm-ops.profile_lists.main_table\"\n",
    "\n",
    "# Construct the query to insert non-duplicate records\n",
    "# Assuming 'Email_Address' is used as the unique identifier for duplicates\n",
    "insert_query = f\"\"\"\n",
    "INSERT INTO `{destination_table_id}` (SELECT * FROM `{source_table_id}` src\n",
    "WHERE NOT EXISTS (\n",
    "    SELECT 1 FROM `{destination_table_id}` dest\n",
    "    WHERE dest.Email_Address = src.Email_Address\n",
    "))\n",
    "\"\"\"\n",
    "\n",
    "# Execute the query\n",
    "job = client.query(insert_query)\n",
    "job.result()  # Wait for the job to complete\n",
    "\n",
    "# Print the number of rows inserted\n",
    "print(f\"Number of rows inserted: {job.num_dml_affected_rows}\")\n"
   ]
  }
 ],
 "metadata": {
  "kernelspec": {
   "display_name": "python31012",
   "language": "python",
   "name": "python3"
  },
  "language_info": {
   "codemirror_mode": {
    "name": "ipython",
    "version": 3
   },
   "file_extension": ".py",
   "mimetype": "text/x-python",
   "name": "python",
   "nbconvert_exporter": "python",
   "pygments_lexer": "ipython3",
   "version": "3.10.12"
  }
 },
 "nbformat": 4,
 "nbformat_minor": 2
}
