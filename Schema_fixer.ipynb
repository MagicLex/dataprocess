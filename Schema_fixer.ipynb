{
 "cells": [
  {
   "cell_type": "code",
   "execution_count": 2,
   "id": "1fb0607c-2f03-4e3e-b786-929269e06594",
   "metadata": {
    "tags": []
   },
   "outputs": [],
   "source": [
    "import os\n",
    "import pandas as pd\n",
    "from pathlib import Path"
   ]
  },
  {
   "cell_type": "code",
   "execution_count": 8,
   "id": "c4c77f9a-ce8a-4961-9d16-9fa9e36f852e",
   "metadata": {
    "tags": []
   },
   "outputs": [],
   "source": [
    "# Define the path to your merged file\n",
    "file_path_df = \"../Zoom_Downloads/merged_files.csv\"\n",
    "\n",
    "# Load the merged file\n",
    "df = pd.read_csv(file_path_df, low_memory=False)\n",
    "\n",
    "# Mapping from original column names to desired schema column names\n",
    "column_mapping = {\n",
    "    'First Name': 'first_name',\n",
    "    'Last Name': 'last_name',\n",
    "    'Job Title': 'Job_Title',\n",
    "    'Job Function': 'Job_Function',\n",
    "    'Email Address': 'Email_Address',\n",
    "    'Email Domain': 'Email_Domain',\n",
    "    'LinkedIn Contact Profile URL': 'LinkedIn_Contact_Profile_URL',\n",
    "    'Country': 'Country',\n",
    "    'Person State': 'State',\n",
    "    'Person City': 'City',\n",
    "    'Company Name': 'Company_Name',\n",
    "    'Website': 'Website',\n",
    "    'Revenue Range (in USD)': 'Revenue_Range',\n",
    "    'Primary Industry': 'Primary_Industry',\n",
    "    'LinkedIn Company Profile URL': 'LinkedIn_Company_Profile_URL'\n",
    "}\n",
    "\n",
    "# Rename the columns in df to match the desired schema column names\n",
    "df_renamed = df.rename(columns={original: new for original, new in column_mapping.items() if original in df.columns})\n",
    "\n",
    "# Select and reorder columns according to the target schema\n",
    "schema_columns = [\n",
    "    'first_name', 'last_name', 'Job_Title', 'Job_Function',\n",
    "    'Email_Address', 'Email_Domain', 'LinkedIn_Contact_Profile_URL',\n",
    "    'Country', 'State', 'City', 'Company_Name', 'Website',\n",
    "    'Revenue_Range', 'Primary_Industry', 'LinkedIn_Company_Profile_URL'\n",
    "]\n",
    "\n",
    "# Keep only the columns in your schema, in the order they are defined\n",
    "df_prepared = df_renamed[schema_columns].copy()\n",
    "\n",
    "# Optional: Handle NaN values. For STRING type in BigQuery, replacing NaN with empty strings\n",
    "df_prepared.fillna('', inplace=True)\n",
    "\n",
    "# Save the prepared DataFrame to a new CSV file for BigQuery upload\n",
    "output_file_path = \"../Zoom_Downloads/prepared_for_bigquery.csv\"\n",
    "df_prepared.to_csv(output_file_path, index=False)\n"
   ]
  },
  {
   "cell_type": "code",
   "execution_count": 10,
   "id": "38876c34-5be9-4e90-8958-1e02ebba7f1e",
   "metadata": {
    "tags": []
   },
   "outputs": [
    {
     "name": "stdout",
     "output_type": "stream",
     "text": [
      "['first_name', 'last_name', 'Job_Title', 'Job_Function', 'Email_Address', 'Email_Domain', 'LinkedIn_Contact_Profile_URL', 'Country', 'State', 'City', 'Company_Name', 'Website', 'Revenue_Range', 'Primary_Industry', 'LinkedIn_Company_Profile_URL'] 187650\n"
     ]
    }
   ],
   "source": [
    "df_info = df_prepared.columns.tolist()\n",
    "df_count = len(df_prepared)\n",
    "\n",
    "\n",
    "print(df_info, df_count)"
   ]
  },
  {
   "cell_type": "code",
   "execution_count": null,
   "id": "4d222b8e-d778-4be8-8959-c4b8683ce36f",
   "metadata": {},
   "outputs": [],
   "source": []
  }
 ],
 "metadata": {
  "kernelspec": {
   "display_name": "Python 3 (ipykernel)",
   "language": "python",
   "name": "python3"
  },
  "language_info": {
   "codemirror_mode": {
    "name": "ipython",
    "version": 3
   },
   "file_extension": ".py",
   "mimetype": "text/x-python",
   "name": "python",
   "nbconvert_exporter": "python",
   "pygments_lexer": "ipython3",
   "version": "3.10.4"
  }
 },
 "nbformat": 4,
 "nbformat_minor": 5
}
